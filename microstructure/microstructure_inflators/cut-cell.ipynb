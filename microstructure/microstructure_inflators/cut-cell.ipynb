{
 "cells": [
  {
   "cell_type": "code",
   "execution_count": null,
   "metadata": {},
   "outputs": [],
   "source": [
    "import json, sys, copy, os, igl\n",
    "import numpy as np\n",
    "import meshio\n",
    "\n",
    "def is_inside(v, f, p):\n",
    "    winds = igl.winding_number(v, f, p)\n",
    "    mask = np.array(np.rint(winds), dtype=int)\n",
    "    \n",
    "    return np.array([e % 2 == 1 for e in mask])\n",
    "\n",
    "def change_file_extension(filename, new_extension):\n",
    "  base, ext = os.path.splitext(filename)\n",
    "  return base + \".\" + new_extension if ext else filename + \".\" + new_extension"
   ]
  },
  {
   "cell_type": "code",
   "execution_count": null,
   "metadata": {},
   "outputs": [],
   "source": [
    "microstructure_repo_path = \"/path/to/microstructure_inflators\"\n",
    "input_surface = \"/path/to/your/input.stl\"\n",
    "stitch_cells_cli = os.path.join(microstructure_repo_path, \"build/isosurface_inflator/cut_cells_cli\")\n",
    "only_cube_cells = False"
   ]
  },
  {
   "cell_type": "code",
   "execution_count": null,
   "metadata": {},
   "outputs": [],
   "source": [
    "E = 0.01\n",
    "nu = 0.09\n",
    "cell_size = 8\n",
    "# out_path = str(E) + \"_\" + str(cell_size) + \".obj\"\n",
    "out_path = f\"{input_surface[:-4]}_{E}_{cell_size}.obj_{only_cube_cells}.obj\"\n",
    "print(out_path)\n",
    "\n",
    "m = meshio.read(input_surface)\n",
    "input_surface = change_file_extension(input_surface, 'obj')\n",
    "m.write(input_surface)\n",
    "v = m.points.astype(float)\n",
    "f = m.cells[0].data\n",
    "bbox = [np.amin(v, axis=0), np.amax(v, axis=0)]\n",
    "\n",
    "# corner0 = list(map(int, np.ceil(bbox[0] / cell_size)))\n",
    "corner0 = list(map(int, np.ceil(bbox[0] / cell_size) - 1))\n",
    "corner1 = list(map(int, np.floor(bbox[1] / cell_size)))\n",
    "\n",
    "print(corner0, corner1)\n",
    "\n",
    "# use return E for uniform Young's modulus\n",
    "# use i,j,k to vary the Young's modulus through the dimensions\n",
    "def young(i, j, k):\n",
    "    # return E\n",
    "    print(k)\n",
    "    if k == 0:\n",
    "        return 0.001\n",
    "    if k == 1:\n",
    "        return 0.0015\n",
    "    if k == 2:\n",
    "        return 0.002\n",
    "    if k == 3:  \n",
    "        return 0.005\n",
    "    if k == 4:\n",
    "        return 0.005\n",
    "    if k == 5:\n",
    "        return 0.005\n",
    "    if k == 6:\n",
    "        return 0.005\n",
    "    if k == 7:\n",
    "        return 0.005\n",
    "    if k == 8:\n",
    "        return 0.005\n",
    "    if k == 9:\n",
    "        return 0.005\n",
    "    \n",
    "    "
   ]
  },
  {
   "cell_type": "code",
   "execution_count": null,
   "metadata": {},
   "outputs": [],
   "source": [
    "sys.path.insert(0, '/path/to/matopt/tools/material2geometry')\n",
    "from material2geometry import Material2Geometry"
   ]
  },
  {
   "cell_type": "code",
   "execution_count": null,
   "metadata": {},
   "outputs": [],
   "source": [
    "mat2geo = Material2Geometry(in_path=\"/path/to/matopt/tools/material2geometry/0646_geo_1_coeffs.txt\")"
   ]
  },
  {
   "cell_type": "code",
   "execution_count": null,
   "metadata": {},
   "outputs": [],
   "source": [
    "patterns = []\n",
    "entry = {\"params\": [],\n",
    "\"symmetry\": \"Cubic\",\n",
    "\"pattern\": \"/path/to/microstructure_inflators/data/patterns/3D/reference_wires/pattern0646.wire\",\n",
    "\"index\": [0,0,0]}\n",
    "\n",
    "for i in range(corner0[0], 1 + corner1[0]):\n",
    "    for j in range(corner0[1], 1 + corner1[1]):\n",
    "        for k in range(corner0[2], 1 + corner1[2]):\n",
    "            geo_params = mat2geo.evaluate(nu, young(i, j, k))\n",
    "            entry[\"params\"] = geo_params\n",
    "            entry[\"index\"] = [i,j,k]\n",
    "            patterns.append(copy.deepcopy(entry))\n",
    "\n",
    "with open(\"data.json\", 'w') as f:\n",
    "    json.dump(patterns, f)"
   ]
  },
  {
   "cell_type": "code",
   "execution_count": null,
   "metadata": {},
   "outputs": [],
   "source": [
    "os.system(stitch_cells_cli + \" -p data.json \" +\n",
    "           ((\"--surface \" + input_surface) if not only_cube_cells else \"\") + \n",
    "           \" --gridSize \" + str(cell_size) + \" -o \" + out_path + \" -r 50\")\n",
    "# print((stitch_cells_cli + \" -p data.json \" +\n",
    "#            ((\"--surface \" + input_surface) if not only_cube_cells else \"\") + \n",
    "#            \" --gridSize \" + str(cell_size) + \" -o \" + out_path + \" -r 50\"))"
   ]
  },
  {
   "cell_type": "code",
   "execution_count": null,
   "metadata": {},
   "outputs": [],
   "source": [
    "for c in [1, 2, 3, 4, 5, 6, 7, 8]:\n",
    "    for E in [1e-3, 2e-3, 5e-3, 1e-2]:\n",
    "        print(f\"Processing for c={c} and E={E}\")\n",
    "        print((np.array(mat2geo.evaluate(nu, E)[5:-4]) * c).tolist())"
   ]
  },
  {
   "cell_type": "code",
   "execution_count": null,
   "metadata": {},
   "outputs": [],
   "source": [
    "# To check printability of the geometry, we can create a DataFrame to summarize the minimum dimensions for different cell sizes and Young's moduli.Based on your printer nozzle size, we can determine if the geometry is printable or not.\n",
    "\n",
    "import pandas as pd\n",
    "import numpy as np\n",
    "\n",
    "c_values = [1, 2, 3, 4, 5, 6, 7, 8, 16]\n",
    "E_values = [1e-3, 2e-3, 5e-3, 1e-2, 2e-2]\n",
    "\n",
    "df = pd.DataFrame(index=c_values, columns=E_values)\n",
    "\n",
    "df.index.name = \"Cell Size (c)\"\n",
    "df.columns.name = \"Young's Modulus (E)\"\n",
    "\n",
    "for c in c_values:\n",
    "    for E in E_values:\n",
    "        arr = np.array(mat2geo.evaluate(nu, E)[5:-4]) * c\n",
    "        min_dim = np.min(arr)        \n",
    "        if min_dim < 0.4:\n",
    "            df.loc[c, E] = \"Unprintable\"\n",
    "        else:\n",
    "            df.loc[c, E] = f\"{min_dim:.4f}\"\n",
    "\n",
    "df"
   ]
  }
 ],
 "metadata": {
  "kernelspec": {
   "display_name": "base",
   "language": "python",
   "name": "python3"
  },
  "language_info": {
   "codemirror_mode": {
    "name": "ipython",
    "version": 3
   },
   "file_extension": ".py",
   "mimetype": "text/x-python",
   "name": "python",
   "nbconvert_exporter": "python",
   "pygments_lexer": "ipython3",
   "version": "3.10.12"
  }
 },
 "nbformat": 4,
 "nbformat_minor": 2
}
